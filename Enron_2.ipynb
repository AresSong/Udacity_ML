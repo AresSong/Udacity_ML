{
 "cells": [
  {
   "cell_type": "markdown",
   "metadata": {},
   "source": [
    "#### Import libraries\n",
    "\n",
    "Before dig into the dataset, all necessary libaries are imported below."
   ]
  },
  {
   "cell_type": "code",
   "execution_count": 236,
   "metadata": {
    "collapsed": false
   },
   "outputs": [],
   "source": [
    "import numpy as np\n",
    "import pandas as pd\n",
    "import csv\n",
    "import pickle\n",
    "from pprint import pprint\n",
    "import matplotlib.pyplot as plt \n",
    "from sklearn.cross_validation import train_test_split,StratifiedShuffleSplit\n",
    "from sklearn import metrics\n",
    "from sklearn.feature_selection import SelectKBest, f_classif\n",
    "from sklearn.decomposition import PCA\n",
    "from sklearn import tree\n",
    "from sklearn.naive_bayes import GaussianNB\n",
    "from sklearn.svm import SVC\n",
    "from sklearn import grid_search\n",
    "%matplotlib inline  "
   ]
  },
  {
   "cell_type": "markdown",
   "metadata": {},
   "source": [
    "# 1. Summarize for us the goal of this project and how machine learning is useful in trying to accomplish it."
   ]
  },
  {
   "cell_type": "markdown",
   "metadata": {},
   "source": [
    "## 1.1 Understanding the Dataset and Question\n",
    "The purpose of this project is to identify POI by ML programme which run against the Enron dataset.\n",
    "The Enron dataset is comprised of Enron email dataset and Enron Financial features dataset.Since this dataset contains two group of people poi and non-poi and features of two group of people, we can reveal relationships between features of different group of people. Then, we can use these realtionships to identify POI."
   ]
  },
  {
   "cell_type": "markdown",
   "metadata": {},
   "source": [
    "## 1.2. Data Exploration\n",
    "\n",
    "There are few questions about the dataset:\n",
    "  - Total number of data points\n",
    "  - Allocation across classes (POI/non-POI)\n",
    "  - Number of features used\n",
    "  - Are there features with many missing values\n",
    "  "
   ]
  },
  {
   "cell_type": "markdown",
   "metadata": {},
   "source": [
    "The data set is loaded below"
   ]
  },
  {
   "cell_type": "code",
   "execution_count": 237,
   "metadata": {
    "collapsed": false,
    "scrolled": false
   },
   "outputs": [],
   "source": [
    "FilePath = r'C:\\Users\\ares\\Documents\\PycharmProjects\\ud120\\final_project\\final_project_dataset.pkl'\n",
    "with open(FilePath, 'r') as data_file:\n",
    "    data_dict = pickle.load(data_file)\n",
    "\n",
    "### Full dataset is used in data exploration\n",
    "### Transform dict to a pandas DataFrame\n",
    "### rows for observation, columns for features\n",
    "data_dict = pd.DataFrame(data_dict)\n",
    "data_dict = data_dict.T\n",
    "\n",
    "### replace string 'NaN' with null\n",
    "data_dict = data_dict.replace(to_replace = 'NaN',value = np.nan)\n"
   ]
  },
  {
   "cell_type": "markdown",
   "metadata": {},
   "source": [
    "### 1.2.1 Overview of Data Structure"
   ]
  },
  {
   "cell_type": "code",
   "execution_count": 238,
   "metadata": {
    "collapsed": false
   },
   "outputs": [
    {
     "data": {
      "text/html": [
       "<div>\n",
       "<table border=\"1\" class=\"dataframe\">\n",
       "  <thead>\n",
       "    <tr style=\"text-align: right;\">\n",
       "      <th></th>\n",
       "      <th>bonus</th>\n",
       "      <th>deferral_payments</th>\n",
       "      <th>deferred_income</th>\n",
       "      <th>director_fees</th>\n",
       "      <th>email_address</th>\n",
       "      <th>exercised_stock_options</th>\n",
       "      <th>expenses</th>\n",
       "      <th>from_messages</th>\n",
       "      <th>from_poi_to_this_person</th>\n",
       "      <th>from_this_person_to_poi</th>\n",
       "      <th>...</th>\n",
       "      <th>long_term_incentive</th>\n",
       "      <th>other</th>\n",
       "      <th>poi</th>\n",
       "      <th>restricted_stock</th>\n",
       "      <th>restricted_stock_deferred</th>\n",
       "      <th>salary</th>\n",
       "      <th>shared_receipt_with_poi</th>\n",
       "      <th>to_messages</th>\n",
       "      <th>total_payments</th>\n",
       "      <th>total_stock_value</th>\n",
       "    </tr>\n",
       "  </thead>\n",
       "  <tbody>\n",
       "    <tr>\n",
       "      <th>ALLEN PHILLIP K</th>\n",
       "      <td>4175000</td>\n",
       "      <td>2869717</td>\n",
       "      <td>-3081055</td>\n",
       "      <td>NaN</td>\n",
       "      <td>phillip.allen@enron.com</td>\n",
       "      <td>1729541</td>\n",
       "      <td>13868</td>\n",
       "      <td>2195</td>\n",
       "      <td>47</td>\n",
       "      <td>65</td>\n",
       "      <td>...</td>\n",
       "      <td>304805</td>\n",
       "      <td>152</td>\n",
       "      <td>False</td>\n",
       "      <td>126027</td>\n",
       "      <td>-126027</td>\n",
       "      <td>201955</td>\n",
       "      <td>1407</td>\n",
       "      <td>2902</td>\n",
       "      <td>4484442</td>\n",
       "      <td>1729541</td>\n",
       "    </tr>\n",
       "  </tbody>\n",
       "</table>\n",
       "<p>1 rows × 21 columns</p>\n",
       "</div>"
      ],
      "text/plain": [
       "                   bonus  deferral_payments  deferred_income  director_fees  \\\n",
       "ALLEN PHILLIP K  4175000            2869717         -3081055            NaN   \n",
       "\n",
       "                           email_address  exercised_stock_options  expenses  \\\n",
       "ALLEN PHILLIP K  phillip.allen@enron.com                  1729541     13868   \n",
       "\n",
       "                 from_messages  from_poi_to_this_person  \\\n",
       "ALLEN PHILLIP K           2195                       47   \n",
       "\n",
       "                 from_this_person_to_poi        ...          \\\n",
       "ALLEN PHILLIP K                       65        ...           \n",
       "\n",
       "                 long_term_incentive  other    poi restricted_stock  \\\n",
       "ALLEN PHILLIP K               304805    152  False           126027   \n",
       "\n",
       "                 restricted_stock_deferred  salary  shared_receipt_with_poi  \\\n",
       "ALLEN PHILLIP K                    -126027  201955                     1407   \n",
       "\n",
       "                 to_messages  total_payments  total_stock_value  \n",
       "ALLEN PHILLIP K         2902         4484442            1729541  \n",
       "\n",
       "[1 rows x 21 columns]"
      ]
     },
     "execution_count": 238,
     "metadata": {},
     "output_type": "execute_result"
    }
   ],
   "source": [
    "data_dict.head(1)"
   ]
  },
  {
   "cell_type": "markdown",
   "metadata": {},
   "source": [
    "### 1.2.2 Check data profile by describe() function"
   ]
  },
  {
   "cell_type": "code",
   "execution_count": 239,
   "metadata": {
    "collapsed": false
   },
   "outputs": [
    {
     "data": {
      "text/html": [
       "<div>\n",
       "<table border=\"1\" class=\"dataframe\">\n",
       "  <thead>\n",
       "    <tr style=\"text-align: right;\">\n",
       "      <th></th>\n",
       "      <th>bonus</th>\n",
       "      <th>deferral_payments</th>\n",
       "      <th>deferred_income</th>\n",
       "      <th>director_fees</th>\n",
       "      <th>exercised_stock_options</th>\n",
       "      <th>expenses</th>\n",
       "      <th>from_messages</th>\n",
       "      <th>from_poi_to_this_person</th>\n",
       "      <th>from_this_person_to_poi</th>\n",
       "      <th>loan_advances</th>\n",
       "      <th>long_term_incentive</th>\n",
       "      <th>other</th>\n",
       "      <th>poi</th>\n",
       "      <th>restricted_stock</th>\n",
       "      <th>restricted_stock_deferred</th>\n",
       "      <th>salary</th>\n",
       "      <th>shared_receipt_with_poi</th>\n",
       "      <th>to_messages</th>\n",
       "      <th>total_payments</th>\n",
       "      <th>total_stock_value</th>\n",
       "    </tr>\n",
       "  </thead>\n",
       "  <tbody>\n",
       "    <tr>\n",
       "      <th>count</th>\n",
       "      <td>82.000000</td>\n",
       "      <td>39.000000</td>\n",
       "      <td>49.000000</td>\n",
       "      <td>17.000000</td>\n",
       "      <td>1.020000e+02</td>\n",
       "      <td>95.000000</td>\n",
       "      <td>86.000000</td>\n",
       "      <td>86.000000</td>\n",
       "      <td>86.000000</td>\n",
       "      <td>4.0000</td>\n",
       "      <td>66.000000</td>\n",
       "      <td>93.000000</td>\n",
       "      <td>146</td>\n",
       "      <td>1.100000e+02</td>\n",
       "      <td>18.000000</td>\n",
       "      <td>95.000000</td>\n",
       "      <td>86.000000</td>\n",
       "      <td>86.000000</td>\n",
       "      <td>1.250000e+02</td>\n",
       "      <td>1.260000e+02</td>\n",
       "    </tr>\n",
       "    <tr>\n",
       "      <th>mean</th>\n",
       "      <td>2374234.609756</td>\n",
       "      <td>1642674.153846</td>\n",
       "      <td>-1140475.142857</td>\n",
       "      <td>166804.882353</td>\n",
       "      <td>5.987054e+06</td>\n",
       "      <td>108728.915789</td>\n",
       "      <td>608.790698</td>\n",
       "      <td>64.895349</td>\n",
       "      <td>41.232558</td>\n",
       "      <td>41962500.0000</td>\n",
       "      <td>1470361.454545</td>\n",
       "      <td>919064.967742</td>\n",
       "      <td>0.123288</td>\n",
       "      <td>2.321741e+06</td>\n",
       "      <td>166410.555556</td>\n",
       "      <td>562194.294737</td>\n",
       "      <td>1176.465116</td>\n",
       "      <td>2073.860465</td>\n",
       "      <td>5.081526e+06</td>\n",
       "      <td>6.773957e+06</td>\n",
       "    </tr>\n",
       "    <tr>\n",
       "      <th>std</th>\n",
       "      <td>10713327.969046</td>\n",
       "      <td>5161929.973575</td>\n",
       "      <td>4025406.378506</td>\n",
       "      <td>319891.409747</td>\n",
       "      <td>3.106201e+07</td>\n",
       "      <td>533534.814109</td>\n",
       "      <td>1841.033949</td>\n",
       "      <td>86.979244</td>\n",
       "      <td>100.073111</td>\n",
       "      <td>47083208.7019</td>\n",
       "      <td>5942759.315498</td>\n",
       "      <td>4589252.907638</td>\n",
       "      <td>0.329899</td>\n",
       "      <td>1.251828e+07</td>\n",
       "      <td>4201494.314703</td>\n",
       "      <td>2716369.154553</td>\n",
       "      <td>1178.317641</td>\n",
       "      <td>2582.700981</td>\n",
       "      <td>2.906172e+07</td>\n",
       "      <td>3.895777e+07</td>\n",
       "    </tr>\n",
       "    <tr>\n",
       "      <th>min</th>\n",
       "      <td>70000.000000</td>\n",
       "      <td>-102500.000000</td>\n",
       "      <td>-27992891.000000</td>\n",
       "      <td>3285.000000</td>\n",
       "      <td>3.285000e+03</td>\n",
       "      <td>148.000000</td>\n",
       "      <td>12.000000</td>\n",
       "      <td>0.000000</td>\n",
       "      <td>0.000000</td>\n",
       "      <td>400000.0000</td>\n",
       "      <td>69223.000000</td>\n",
       "      <td>2.000000</td>\n",
       "      <td>False</td>\n",
       "      <td>-2.604490e+06</td>\n",
       "      <td>-7576788.000000</td>\n",
       "      <td>477.000000</td>\n",
       "      <td>2.000000</td>\n",
       "      <td>57.000000</td>\n",
       "      <td>1.480000e+02</td>\n",
       "      <td>-4.409300e+04</td>\n",
       "    </tr>\n",
       "    <tr>\n",
       "      <th>25%</th>\n",
       "      <td>431250.000000</td>\n",
       "      <td>81573.000000</td>\n",
       "      <td>-694862.000000</td>\n",
       "      <td>98784.000000</td>\n",
       "      <td>5.278862e+05</td>\n",
       "      <td>22614.000000</td>\n",
       "      <td>22.750000</td>\n",
       "      <td>10.000000</td>\n",
       "      <td>1.000000</td>\n",
       "      <td>1600000.0000</td>\n",
       "      <td>281250.000000</td>\n",
       "      <td>1215.000000</td>\n",
       "      <td>0</td>\n",
       "      <td>2.540180e+05</td>\n",
       "      <td>-389621.750000</td>\n",
       "      <td>211816.000000</td>\n",
       "      <td>249.750000</td>\n",
       "      <td>541.250000</td>\n",
       "      <td>3.944750e+05</td>\n",
       "      <td>4.945102e+05</td>\n",
       "    </tr>\n",
       "    <tr>\n",
       "      <th>50%</th>\n",
       "      <td>769375.000000</td>\n",
       "      <td>227449.000000</td>\n",
       "      <td>-159792.000000</td>\n",
       "      <td>108579.000000</td>\n",
       "      <td>1.310814e+06</td>\n",
       "      <td>46950.000000</td>\n",
       "      <td>41.000000</td>\n",
       "      <td>35.000000</td>\n",
       "      <td>8.000000</td>\n",
       "      <td>41762500.0000</td>\n",
       "      <td>442035.000000</td>\n",
       "      <td>52382.000000</td>\n",
       "      <td>0</td>\n",
       "      <td>4.517400e+05</td>\n",
       "      <td>-146975.000000</td>\n",
       "      <td>259996.000000</td>\n",
       "      <td>740.500000</td>\n",
       "      <td>1211.000000</td>\n",
       "      <td>1.101393e+06</td>\n",
       "      <td>1.102872e+06</td>\n",
       "    </tr>\n",
       "    <tr>\n",
       "      <th>75%</th>\n",
       "      <td>1200000.000000</td>\n",
       "      <td>1002671.500000</td>\n",
       "      <td>-38346.000000</td>\n",
       "      <td>113784.000000</td>\n",
       "      <td>2.547724e+06</td>\n",
       "      <td>79952.500000</td>\n",
       "      <td>145.500000</td>\n",
       "      <td>72.250000</td>\n",
       "      <td>24.750000</td>\n",
       "      <td>82125000.0000</td>\n",
       "      <td>938672.000000</td>\n",
       "      <td>362096.000000</td>\n",
       "      <td>0</td>\n",
       "      <td>1.002370e+06</td>\n",
       "      <td>-75009.750000</td>\n",
       "      <td>312117.000000</td>\n",
       "      <td>1888.250000</td>\n",
       "      <td>2634.750000</td>\n",
       "      <td>2.093263e+06</td>\n",
       "      <td>2.949847e+06</td>\n",
       "    </tr>\n",
       "    <tr>\n",
       "      <th>max</th>\n",
       "      <td>97343619.000000</td>\n",
       "      <td>32083396.000000</td>\n",
       "      <td>-833.000000</td>\n",
       "      <td>1398517.000000</td>\n",
       "      <td>3.117640e+08</td>\n",
       "      <td>5235198.000000</td>\n",
       "      <td>14368.000000</td>\n",
       "      <td>528.000000</td>\n",
       "      <td>609.000000</td>\n",
       "      <td>83925000.0000</td>\n",
       "      <td>48521928.000000</td>\n",
       "      <td>42667589.000000</td>\n",
       "      <td>True</td>\n",
       "      <td>1.303223e+08</td>\n",
       "      <td>15456290.000000</td>\n",
       "      <td>26704229.000000</td>\n",
       "      <td>5521.000000</td>\n",
       "      <td>15149.000000</td>\n",
       "      <td>3.098866e+08</td>\n",
       "      <td>4.345095e+08</td>\n",
       "    </tr>\n",
       "  </tbody>\n",
       "</table>\n",
       "</div>"
      ],
      "text/plain": [
       "                 bonus  deferral_payments  deferred_income   director_fees  \\\n",
       "count        82.000000          39.000000        49.000000       17.000000   \n",
       "mean    2374234.609756     1642674.153846  -1140475.142857   166804.882353   \n",
       "std    10713327.969046     5161929.973575   4025406.378506   319891.409747   \n",
       "min       70000.000000     -102500.000000 -27992891.000000     3285.000000   \n",
       "25%      431250.000000       81573.000000   -694862.000000    98784.000000   \n",
       "50%      769375.000000      227449.000000   -159792.000000   108579.000000   \n",
       "75%     1200000.000000     1002671.500000    -38346.000000   113784.000000   \n",
       "max    97343619.000000    32083396.000000      -833.000000  1398517.000000   \n",
       "\n",
       "       exercised_stock_options        expenses  from_messages  \\\n",
       "count             1.020000e+02       95.000000      86.000000   \n",
       "mean              5.987054e+06   108728.915789     608.790698   \n",
       "std               3.106201e+07   533534.814109    1841.033949   \n",
       "min               3.285000e+03      148.000000      12.000000   \n",
       "25%               5.278862e+05    22614.000000      22.750000   \n",
       "50%               1.310814e+06    46950.000000      41.000000   \n",
       "75%               2.547724e+06    79952.500000     145.500000   \n",
       "max               3.117640e+08  5235198.000000   14368.000000   \n",
       "\n",
       "       from_poi_to_this_person  from_this_person_to_poi  loan_advances  \\\n",
       "count                86.000000                86.000000         4.0000   \n",
       "mean                 64.895349                41.232558  41962500.0000   \n",
       "std                  86.979244               100.073111  47083208.7019   \n",
       "min                   0.000000                 0.000000    400000.0000   \n",
       "25%                  10.000000                 1.000000   1600000.0000   \n",
       "50%                  35.000000                 8.000000  41762500.0000   \n",
       "75%                  72.250000                24.750000  82125000.0000   \n",
       "max                 528.000000               609.000000  83925000.0000   \n",
       "\n",
       "       long_term_incentive            other       poi  restricted_stock  \\\n",
       "count            66.000000        93.000000       146      1.100000e+02   \n",
       "mean        1470361.454545    919064.967742  0.123288      2.321741e+06   \n",
       "std         5942759.315498   4589252.907638  0.329899      1.251828e+07   \n",
       "min           69223.000000         2.000000     False     -2.604490e+06   \n",
       "25%          281250.000000      1215.000000         0      2.540180e+05   \n",
       "50%          442035.000000     52382.000000         0      4.517400e+05   \n",
       "75%          938672.000000    362096.000000         0      1.002370e+06   \n",
       "max        48521928.000000  42667589.000000      True      1.303223e+08   \n",
       "\n",
       "       restricted_stock_deferred           salary  shared_receipt_with_poi  \\\n",
       "count                  18.000000        95.000000                86.000000   \n",
       "mean               166410.555556    562194.294737              1176.465116   \n",
       "std               4201494.314703   2716369.154553              1178.317641   \n",
       "min              -7576788.000000       477.000000                 2.000000   \n",
       "25%               -389621.750000    211816.000000               249.750000   \n",
       "50%               -146975.000000    259996.000000               740.500000   \n",
       "75%                -75009.750000    312117.000000              1888.250000   \n",
       "max              15456290.000000  26704229.000000              5521.000000   \n",
       "\n",
       "        to_messages  total_payments  total_stock_value  \n",
       "count     86.000000    1.250000e+02       1.260000e+02  \n",
       "mean    2073.860465    5.081526e+06       6.773957e+06  \n",
       "std     2582.700981    2.906172e+07       3.895777e+07  \n",
       "min       57.000000    1.480000e+02      -4.409300e+04  \n",
       "25%      541.250000    3.944750e+05       4.945102e+05  \n",
       "50%     1211.000000    1.101393e+06       1.102872e+06  \n",
       "75%     2634.750000    2.093263e+06       2.949847e+06  \n",
       "max    15149.000000    3.098866e+08       4.345095e+08  "
      ]
     },
     "execution_count": 239,
     "metadata": {},
     "output_type": "execute_result"
    }
   ],
   "source": [
    "data_dict.describe()"
   ]
  },
  {
   "cell_type": "markdown",
   "metadata": {},
   "source": [
    "### 1.2.3 Total number of data points and features"
   ]
  },
  {
   "cell_type": "code",
   "execution_count": 240,
   "metadata": {
    "collapsed": false
   },
   "outputs": [
    {
     "data": {
      "text/plain": [
       "(146, 21)"
      ]
     },
     "execution_count": 240,
     "metadata": {},
     "output_type": "execute_result"
    }
   ],
   "source": [
    "data_dict.shape"
   ]
  },
  {
   "cell_type": "markdown",
   "metadata": {},
   "source": [
    " - 146 data points\n",
    " - 20 features\n",
    " - 1 target"
   ]
  },
  {
   "cell_type": "markdown",
   "metadata": {
    "collapsed": true
   },
   "source": [
    "### 1.2.3 Allocation across classes (POI/non-POI)"
   ]
  },
  {
   "cell_type": "code",
   "execution_count": 241,
   "metadata": {
    "collapsed": false
   },
   "outputs": [
    {
     "data": {
      "text/plain": [
       "False    128\n",
       "True      18\n",
       "Name: poi, dtype: int64"
      ]
     },
     "execution_count": 241,
     "metadata": {},
     "output_type": "execute_result"
    }
   ],
   "source": [
    "data_dict['poi'].value_counts()"
   ]
  },
  {
   "cell_type": "markdown",
   "metadata": {},
   "source": [
    " - 'poi' has 128 observation\n",
    " - 'non-poi' has 18 observation"
   ]
  },
  {
   "cell_type": "markdown",
   "metadata": {},
   "source": [
    "### 1.2.4 Are there features with many missing values"
   ]
  },
  {
   "cell_type": "code",
   "execution_count": 242,
   "metadata": {
    "collapsed": false
   },
   "outputs": [
    {
     "data": {
      "text/plain": [
       "bonus                         64\n",
       "deferral_payments            107\n",
       "deferred_income               97\n",
       "director_fees                129\n",
       "email_address                 35\n",
       "exercised_stock_options       44\n",
       "expenses                      51\n",
       "from_messages                 60\n",
       "from_poi_to_this_person       60\n",
       "from_this_person_to_poi       60\n",
       "loan_advances                142\n",
       "long_term_incentive           80\n",
       "other                         53\n",
       "poi                            0\n",
       "restricted_stock              36\n",
       "restricted_stock_deferred    128\n",
       "salary                        51\n",
       "shared_receipt_with_poi       60\n",
       "to_messages                   60\n",
       "total_payments                21\n",
       "total_stock_value             20\n",
       "dtype: int64"
      ]
     },
     "execution_count": 242,
     "metadata": {},
     "output_type": "execute_result"
    }
   ],
   "source": [
    "data_dict.isnull().sum()"
   ]
  },
  {
   "cell_type": "markdown",
   "metadata": {},
   "source": [
    "#### Following features have massive null values\n",
    "\n",
    " - deferral_payments \n",
    " - director_fees\n",
    " - loan_advances\n",
    " - restricted_stock_deferred    "
   ]
  },
  {
   "cell_type": "markdown",
   "metadata": {},
   "source": [
    "### 1.2.5 Remove email column\n",
    "20 features will be used in this project after email_address was removed"
   ]
  },
  {
   "cell_type": "code",
   "execution_count": 243,
   "metadata": {
    "collapsed": false
   },
   "outputs": [],
   "source": [
    "# data_dict = data_dict[features_list]\n",
    "data_dict = data_dict.drop('email_address',axis = 1)"
   ]
  },
  {
   "cell_type": "code",
   "execution_count": 244,
   "metadata": {
    "collapsed": false
   },
   "outputs": [],
   "source": [
    "#data_dict.head(3)"
   ]
  },
  {
   "cell_type": "markdown",
   "metadata": {},
   "source": [
    "## 1.3 Outlier Investigation "
   ]
  },
  {
   "cell_type": "markdown",
   "metadata": {},
   "source": [
    "### 1.3.1 Check if there are outliers of 'total_payments' and 'total_stock_value'"
   ]
  },
  {
   "cell_type": "code",
   "execution_count": 245,
   "metadata": {
    "collapsed": false
   },
   "outputs": [
    {
     "data": {
      "text/plain": [
       "<matplotlib.collections.PathCollection at 0x20b252e8>"
      ]
     },
     "execution_count": 245,
     "metadata": {},
     "output_type": "execute_result"
    },
    {
     "data": {
      "image/png": "[encoded data removed]",
      "text/plain": [
       "<matplotlib.figure.Figure at 0x208a8fd0>"
      ]
     },
     "metadata": {},
     "output_type": "display_data"
    }
   ],
   "source": [
    "plt.scatter(data_dict['total_payments'],data_dict['total_stock_value'])"
   ]
  },
  {
   "cell_type": "markdown",
   "metadata": {},
   "source": [
    "Look for index of outlier"
   ]
  },
  {
   "cell_type": "code",
   "execution_count": 246,
   "metadata": {
    "collapsed": false
   },
   "outputs": [
    {
     "data": {
      "text/plain": [
       "'TOTAL'"
      ]
     },
     "execution_count": 246,
     "metadata": {},
     "output_type": "execute_result"
    }
   ],
   "source": [
    "data_dict['total_stock_value'].argmax()"
   ]
  },
  {
   "cell_type": "markdown",
   "metadata": {},
   "source": [
    "Remove outlier"
   ]
  },
  {
   "cell_type": "code",
   "execution_count": 247,
   "metadata": {
    "collapsed": false
   },
   "outputs": [],
   "source": [
    "data_dict = data_dict.drop(['TOTAL'],axis = 'index')"
   ]
  },
  {
   "cell_type": "markdown",
   "metadata": {},
   "source": [
    "Recheck the dataset after total has been removed"
   ]
  },
  {
   "cell_type": "code",
   "execution_count": 248,
   "metadata": {
    "collapsed": false
   },
   "outputs": [
    {
     "data": {
      "text/plain": [
       "<matplotlib.collections.PathCollection at 0x20cf44e0>"
      ]
     },
     "execution_count": 248,
     "metadata": {},
     "output_type": "execute_result"
    },
    {
     "data": {
      "image/png": "[encoded data removed]",
      "text/plain": [
       "<matplotlib.figure.Figure at 0x20b4a940>"
      ]
     },
     "metadata": {},
     "output_type": "display_data"
    }
   ],
   "source": [
    "plt.scatter(data_dict['total_payments'],data_dict['total_stock_value'])"
   ]
  },
  {
   "cell_type": "markdown",
   "metadata": {},
   "source": [
    "Look for index of outlier"
   ]
  },
  {
   "cell_type": "code",
   "execution_count": 249,
   "metadata": {
    "collapsed": false
   },
   "outputs": [
    {
     "data": {
      "text/plain": [
       "'LAY KENNETH L'"
      ]
     },
     "execution_count": 249,
     "metadata": {},
     "output_type": "execute_result"
    }
   ],
   "source": [
    "data_dict['total_stock_value'].argmax()"
   ]
  },
  {
   "cell_type": "markdown",
   "metadata": {},
   "source": [
    "Check features of this outlier"
   ]
  },
  {
   "cell_type": "code",
   "execution_count": 250,
   "metadata": {
    "collapsed": false
   },
   "outputs": [
    {
     "data": {
      "text/plain": [
       "bonus                              7e+06\n",
       "deferral_payments                 202911\n",
       "deferred_income                  -300000\n",
       "director_fees                        NaN\n",
       "exercised_stock_options      3.43484e+07\n",
       "expenses                           99832\n",
       "from_messages                         36\n",
       "from_poi_to_this_person              123\n",
       "from_this_person_to_poi               16\n",
       "loan_advances                 8.1525e+07\n",
       "long_term_incentive              3.6e+06\n",
       "other                        1.03597e+07\n",
       "poi                                 True\n",
       "restricted_stock             1.47617e+07\n",
       "restricted_stock_deferred            NaN\n",
       "salary                       1.07232e+06\n",
       "shared_receipt_with_poi             2411\n",
       "to_messages                         4273\n",
       "total_payments                1.0356e+08\n",
       "total_stock_value            4.91101e+07\n",
       "Name: LAY KENNETH L, dtype: object"
      ]
     },
     "execution_count": 250,
     "metadata": {},
     "output_type": "execute_result"
    }
   ],
   "source": [
    "data_dict.loc['LAY KENNETH L']"
   ]
  },
  {
   "cell_type": "markdown",
   "metadata": {},
   "source": [
    "I decided that I will not delete 'LAY KENNETH L' because it's a POI"
   ]
  },
  {
   "cell_type": "markdown",
   "metadata": {},
   "source": [
    "### 1.3.2 Find observation which are identified as poi but doesn't have emails from poi\n",
    "A POI who doesn't have email communication with other POIs should be the result of missing data."
   ]
  },
  {
   "cell_type": "code",
   "execution_count": 251,
   "metadata": {
    "collapsed": false
   },
   "outputs": [
    {
     "data": {
      "text/html": [
       "<div>\n",
       "<table border=\"1\" class=\"dataframe\">\n",
       "  <thead>\n",
       "    <tr style=\"text-align: right;\">\n",
       "      <th></th>\n",
       "      <th>bonus</th>\n",
       "      <th>deferral_payments</th>\n",
       "      <th>deferred_income</th>\n",
       "      <th>director_fees</th>\n",
       "      <th>exercised_stock_options</th>\n",
       "      <th>expenses</th>\n",
       "      <th>from_messages</th>\n",
       "      <th>from_poi_to_this_person</th>\n",
       "      <th>from_this_person_to_poi</th>\n",
       "      <th>loan_advances</th>\n",
       "      <th>long_term_incentive</th>\n",
       "      <th>other</th>\n",
       "      <th>poi</th>\n",
       "      <th>restricted_stock</th>\n",
       "      <th>restricted_stock_deferred</th>\n",
       "      <th>salary</th>\n",
       "      <th>shared_receipt_with_poi</th>\n",
       "      <th>to_messages</th>\n",
       "      <th>total_payments</th>\n",
       "      <th>total_stock_value</th>\n",
       "    </tr>\n",
       "  </thead>\n",
       "  <tbody>\n",
       "    <tr>\n",
       "      <th>FASTOW ANDREW S</th>\n",
       "      <td>1300000</td>\n",
       "      <td>NaN</td>\n",
       "      <td>-1386055</td>\n",
       "      <td>NaN</td>\n",
       "      <td>NaN</td>\n",
       "      <td>55921</td>\n",
       "      <td>NaN</td>\n",
       "      <td>NaN</td>\n",
       "      <td>NaN</td>\n",
       "      <td>NaN</td>\n",
       "      <td>1736055</td>\n",
       "      <td>277464</td>\n",
       "      <td>True</td>\n",
       "      <td>1794412</td>\n",
       "      <td>NaN</td>\n",
       "      <td>440698</td>\n",
       "      <td>NaN</td>\n",
       "      <td>NaN</td>\n",
       "      <td>2424083</td>\n",
       "      <td>1794412</td>\n",
       "    </tr>\n",
       "  </tbody>\n",
       "</table>\n",
       "</div>"
      ],
      "text/plain": [
       "                   bonus  deferral_payments  deferred_income  director_fees  \\\n",
       "FASTOW ANDREW S  1300000                NaN         -1386055            NaN   \n",
       "\n",
       "                 exercised_stock_options  expenses  from_messages  \\\n",
       "FASTOW ANDREW S                      NaN     55921            NaN   \n",
       "\n",
       "                 from_poi_to_this_person  from_this_person_to_poi  \\\n",
       "FASTOW ANDREW S                      NaN                      NaN   \n",
       "\n",
       "                 loan_advances  long_term_incentive   other   poi  \\\n",
       "FASTOW ANDREW S            NaN              1736055  277464  True   \n",
       "\n",
       "                 restricted_stock  restricted_stock_deferred  salary  \\\n",
       "FASTOW ANDREW S           1794412                        NaN  440698   \n",
       "\n",
       "                 shared_receipt_with_poi  to_messages  total_payments  \\\n",
       "FASTOW ANDREW S                      NaN          NaN         2424083   \n",
       "\n",
       "                 total_stock_value  \n",
       "FASTOW ANDREW S            1794412  "
      ]
     },
     "execution_count": 251,
     "metadata": {},
     "output_type": "execute_result"
    }
   ],
   "source": [
    "data_dict[(data_dict['poi']== True)&(data_dict['from_poi_to_this_person'].isnull())].head(1)\n"
   ]
  },
  {
   "cell_type": "markdown",
   "metadata": {},
   "source": [
    "Remove these observation as outliers/dirty data"
   ]
  },
  {
   "cell_type": "code",
   "execution_count": 252,
   "metadata": {
    "collapsed": false
   },
   "outputs": [],
   "source": [
    "data_dict = data_dict.drop(data_dict.loc[ ((data_dict['poi']== True) \n",
    "                                           & (data_dict['from_poi_to_this_person'].isnull()))].index\n",
    "                           , axis = 0)"
   ]
  },
  {
   "cell_type": "code",
   "execution_count": 253,
   "metadata": {
    "collapsed": true
   },
   "outputs": [],
   "source": [
    "data_dict = data_dict.applymap(float)"
   ]
  },
  {
   "cell_type": "code",
   "execution_count": 254,
   "metadata": {
    "collapsed": false
   },
   "outputs": [
    {
     "data": {
      "text/plain": [
       "141"
      ]
     },
     "execution_count": 254,
     "metadata": {},
     "output_type": "execute_result"
    }
   ],
   "source": [
    "len(data_dict)"
   ]
  },
  {
   "cell_type": "markdown",
   "metadata": {},
   "source": [
    "### 1.3.3 Find and drop the unreal person 'THE TRAVEL AGENCY IN THE PARK’"
   ]
  },
  {
   "cell_type": "code",
   "execution_count": 255,
   "metadata": {
    "collapsed": false
   },
   "outputs": [
    {
     "data": {
      "text/html": [
       "<div>\n",
       "<table border=\"1\" class=\"dataframe\">\n",
       "  <thead>\n",
       "    <tr style=\"text-align: right;\">\n",
       "      <th></th>\n",
       "      <th>bonus</th>\n",
       "      <th>deferral_payments</th>\n",
       "      <th>deferred_income</th>\n",
       "      <th>director_fees</th>\n",
       "      <th>exercised_stock_options</th>\n",
       "      <th>expenses</th>\n",
       "      <th>from_messages</th>\n",
       "      <th>from_poi_to_this_person</th>\n",
       "      <th>from_this_person_to_poi</th>\n",
       "      <th>loan_advances</th>\n",
       "      <th>long_term_incentive</th>\n",
       "      <th>other</th>\n",
       "      <th>poi</th>\n",
       "      <th>restricted_stock</th>\n",
       "      <th>restricted_stock_deferred</th>\n",
       "      <th>salary</th>\n",
       "      <th>shared_receipt_with_poi</th>\n",
       "      <th>to_messages</th>\n",
       "      <th>total_payments</th>\n",
       "      <th>total_stock_value</th>\n",
       "    </tr>\n",
       "  </thead>\n",
       "  <tbody>\n",
       "    <tr>\n",
       "      <th>THE TRAVEL AGENCY IN THE PARK</th>\n",
       "      <td>NaN</td>\n",
       "      <td>NaN</td>\n",
       "      <td>NaN</td>\n",
       "      <td>NaN</td>\n",
       "      <td>NaN</td>\n",
       "      <td>NaN</td>\n",
       "      <td>NaN</td>\n",
       "      <td>NaN</td>\n",
       "      <td>NaN</td>\n",
       "      <td>NaN</td>\n",
       "      <td>NaN</td>\n",
       "      <td>362096</td>\n",
       "      <td>0</td>\n",
       "      <td>NaN</td>\n",
       "      <td>NaN</td>\n",
       "      <td>NaN</td>\n",
       "      <td>NaN</td>\n",
       "      <td>NaN</td>\n",
       "      <td>362096</td>\n",
       "      <td>NaN</td>\n",
       "    </tr>\n",
       "  </tbody>\n",
       "</table>\n",
       "</div>"
      ],
      "text/plain": [
       "                               bonus  deferral_payments  deferred_income  \\\n",
       "THE TRAVEL AGENCY IN THE PARK    NaN                NaN              NaN   \n",
       "\n",
       "                               director_fees  exercised_stock_options  \\\n",
       "THE TRAVEL AGENCY IN THE PARK            NaN                      NaN   \n",
       "\n",
       "                               expenses  from_messages  \\\n",
       "THE TRAVEL AGENCY IN THE PARK       NaN            NaN   \n",
       "\n",
       "                               from_poi_to_this_person  \\\n",
       "THE TRAVEL AGENCY IN THE PARK                      NaN   \n",
       "\n",
       "                               from_this_person_to_poi  loan_advances  \\\n",
       "THE TRAVEL AGENCY IN THE PARK                      NaN            NaN   \n",
       "\n",
       "                               long_term_incentive   other  poi  \\\n",
       "THE TRAVEL AGENCY IN THE PARK                  NaN  362096    0   \n",
       "\n",
       "                               restricted_stock  restricted_stock_deferred  \\\n",
       "THE TRAVEL AGENCY IN THE PARK               NaN                        NaN   \n",
       "\n",
       "                               salary  shared_receipt_with_poi  to_messages  \\\n",
       "THE TRAVEL AGENCY IN THE PARK     NaN                      NaN          NaN   \n",
       "\n",
       "                               total_payments  total_stock_value  \n",
       "THE TRAVEL AGENCY IN THE PARK          362096                NaN  "
      ]
     },
     "execution_count": 255,
     "metadata": {},
     "output_type": "execute_result"
    }
   ],
   "source": [
    "data_dict[data_dict.index.str.contains('PARK')]"
   ]
  },
  {
   "cell_type": "code",
   "execution_count": 256,
   "metadata": {
    "collapsed": false
   },
   "outputs": [
    {
     "data": {
      "text/plain": [
       "140"
      ]
     },
     "execution_count": 256,
     "metadata": {},
     "output_type": "execute_result"
    }
   ],
   "source": [
    "data_dict = data_dict.drop('THE TRAVEL AGENCY IN THE PARK', axis = 0)\n",
    "len(data_dict)"
   ]
  },
  {
   "cell_type": "markdown",
   "metadata": {},
   "source": [
    "### 1.3.4 Find and drop the observation which only has null value"
   ]
  },
  {
   "cell_type": "code",
   "execution_count": 257,
   "metadata": {
    "collapsed": false
   },
   "outputs": [
    {
     "data": {
      "text/html": [
       "<div>\n",
       "<table border=\"1\" class=\"dataframe\">\n",
       "  <thead>\n",
       "    <tr style=\"text-align: right;\">\n",
       "      <th></th>\n",
       "      <th>bonus</th>\n",
       "      <th>deferral_payments</th>\n",
       "      <th>deferred_income</th>\n",
       "      <th>director_fees</th>\n",
       "      <th>exercised_stock_options</th>\n",
       "      <th>expenses</th>\n",
       "      <th>from_messages</th>\n",
       "      <th>from_poi_to_this_person</th>\n",
       "      <th>from_this_person_to_poi</th>\n",
       "      <th>loan_advances</th>\n",
       "      <th>long_term_incentive</th>\n",
       "      <th>other</th>\n",
       "      <th>poi</th>\n",
       "      <th>restricted_stock</th>\n",
       "      <th>restricted_stock_deferred</th>\n",
       "      <th>salary</th>\n",
       "      <th>shared_receipt_with_poi</th>\n",
       "      <th>to_messages</th>\n",
       "      <th>total_payments</th>\n",
       "      <th>total_stock_value</th>\n",
       "    </tr>\n",
       "  </thead>\n",
       "  <tbody>\n",
       "    <tr>\n",
       "      <th>LOCKHART EUGENE E</th>\n",
       "      <td>NaN</td>\n",
       "      <td>NaN</td>\n",
       "      <td>NaN</td>\n",
       "      <td>NaN</td>\n",
       "      <td>NaN</td>\n",
       "      <td>NaN</td>\n",
       "      <td>NaN</td>\n",
       "      <td>NaN</td>\n",
       "      <td>NaN</td>\n",
       "      <td>NaN</td>\n",
       "      <td>NaN</td>\n",
       "      <td>NaN</td>\n",
       "      <td>0</td>\n",
       "      <td>NaN</td>\n",
       "      <td>NaN</td>\n",
       "      <td>NaN</td>\n",
       "      <td>NaN</td>\n",
       "      <td>NaN</td>\n",
       "      <td>NaN</td>\n",
       "      <td>NaN</td>\n",
       "    </tr>\n",
       "  </tbody>\n",
       "</table>\n",
       "</div>"
      ],
      "text/plain": [
       "                   bonus  deferral_payments  deferred_income  director_fees  \\\n",
       "LOCKHART EUGENE E    NaN                NaN              NaN            NaN   \n",
       "\n",
       "                   exercised_stock_options  expenses  from_messages  \\\n",
       "LOCKHART EUGENE E                      NaN       NaN            NaN   \n",
       "\n",
       "                   from_poi_to_this_person  from_this_person_to_poi  \\\n",
       "LOCKHART EUGENE E                      NaN                      NaN   \n",
       "\n",
       "                   loan_advances  long_term_incentive  other  poi  \\\n",
       "LOCKHART EUGENE E            NaN                  NaN    NaN    0   \n",
       "\n",
       "                   restricted_stock  restricted_stock_deferred  salary  \\\n",
       "LOCKHART EUGENE E               NaN                        NaN     NaN   \n",
       "\n",
       "                   shared_receipt_with_poi  to_messages  total_payments  \\\n",
       "LOCKHART EUGENE E                      NaN          NaN             NaN   \n",
       "\n",
       "                   total_stock_value  \n",
       "LOCKHART EUGENE E                NaN  "
      ]
     },
     "execution_count": 257,
     "metadata": {},
     "output_type": "execute_result"
    }
   ],
   "source": [
    "data_dict.loc[data_dict.drop('poi',axis = 'columns').isnull().sum(axis = 'columns') \n",
    "              == len(data_dict.drop('poi',axis = 'columns').columns)]\n"
   ]
  },
  {
   "cell_type": "code",
   "execution_count": 258,
   "metadata": {
    "collapsed": false
   },
   "outputs": [
    {
     "data": {
      "text/plain": [
       "139"
      ]
     },
     "execution_count": 258,
     "metadata": {},
     "output_type": "execute_result"
    }
   ],
   "source": [
    "data_dict = data_dict.drop('LOCKHART EUGENE E', axis = 0)\n",
    "len(data_dict)"
   ]
  },
  {
   "cell_type": "markdown",
   "metadata": {},
   "source": [
    "# 2. What features did you end up using in your POI identifier, and what selection process did you use to pick them? Did you have to do any scaling? Why or why not? \n",
    "\n",
    "By using both univariate feature selection and manual feature selection, I ended up with using folliwng features:\n",
    " - 'total_payments'\n",
    " - 'total_stock_value'\n",
    " - 'shared_receipt_with_poi'\n",
    " - 'from_this_person_to_poi_ratio'\n",
    " - 'from_poi_to_this_person_ratio'\n",
    "\n",
    "Following features were used initially as suggested by univariate, but didn't come up with good result:\n",
    " - 'bonus'\n",
    " - 'exercised_stock_options'\n",
    " - 'salary'\n",
    " - 'total_stock_value'\n",
    " - 'from_this_person_to_poi_ratio'\n",
    "\n",
    "I scaled faetures by normalizing features. I did that becasue all fearues take same weight in the ML after scaling"
   ]
  },
  {
   "cell_type": "markdown",
   "metadata": {},
   "source": [
    "## 2.1 Create new features "
   ]
  },
  {
   "cell_type": "markdown",
   "metadata": {},
   "source": [
    "Instead of using absolute amount of email, I reckon using a ratio would be more make sense to detect POI. Therefore, I created two new features from_this_person_to_poi_ratio and from_poi_to_this_person_ratio. These two featrues reflect the percentage of email that is ralted to POI.\n",
    "\n",
    "These new features are tested against Decision Tree algorithm in 6.2 below. The reuslt shows that these new features signicantly improved the pricision and recall. Besides, they take 50% of importance among features used in 6.2, which means they are essential for archiving our goal. "
   ]
  },
  {
   "cell_type": "code",
   "execution_count": 259,
   "metadata": {
    "collapsed": true
   },
   "outputs": [],
   "source": [
    "data_dict[\"from_this_person_to_poi_ratio\"]=data_dict[\"from_this_person_to_poi\"]/data_dict[\"from_messages\"]\n",
    "data_dict[\"from_poi_to_this_person_ratio\"]=data_dict[\"from_poi_to_this_person\"]/data_dict[\"to_messages\"]"
   ]
  },
  {
   "cell_type": "code",
   "execution_count": 260,
   "metadata": {
    "collapsed": false
   },
   "outputs": [
    {
     "data": {
      "text/html": [
       "<div>\n",
       "<table border=\"1\" class=\"dataframe\">\n",
       "  <thead>\n",
       "    <tr style=\"text-align: right;\">\n",
       "      <th></th>\n",
       "      <th>bonus</th>\n",
       "      <th>deferral_payments</th>\n",
       "      <th>deferred_income</th>\n",
       "      <th>director_fees</th>\n",
       "      <th>exercised_stock_options</th>\n",
       "      <th>expenses</th>\n",
       "      <th>from_messages</th>\n",
       "      <th>from_poi_to_this_person</th>\n",
       "      <th>from_this_person_to_poi</th>\n",
       "      <th>loan_advances</th>\n",
       "      <th>...</th>\n",
       "      <th>poi</th>\n",
       "      <th>restricted_stock</th>\n",
       "      <th>restricted_stock_deferred</th>\n",
       "      <th>salary</th>\n",
       "      <th>shared_receipt_with_poi</th>\n",
       "      <th>to_messages</th>\n",
       "      <th>total_payments</th>\n",
       "      <th>total_stock_value</th>\n",
       "      <th>from_this_person_to_poi_ratio</th>\n",
       "      <th>from_poi_to_this_person_ratio</th>\n",
       "    </tr>\n",
       "  </thead>\n",
       "  <tbody>\n",
       "    <tr>\n",
       "      <th>ALLEN PHILLIP K</th>\n",
       "      <td>4175000</td>\n",
       "      <td>2869717</td>\n",
       "      <td>-3081055</td>\n",
       "      <td>NaN</td>\n",
       "      <td>1729541</td>\n",
       "      <td>13868</td>\n",
       "      <td>2195</td>\n",
       "      <td>47</td>\n",
       "      <td>65</td>\n",
       "      <td>NaN</td>\n",
       "      <td>...</td>\n",
       "      <td>0</td>\n",
       "      <td>126027</td>\n",
       "      <td>-126027</td>\n",
       "      <td>201955</td>\n",
       "      <td>1407</td>\n",
       "      <td>2902</td>\n",
       "      <td>4484442</td>\n",
       "      <td>1729541</td>\n",
       "      <td>0.029613</td>\n",
       "      <td>0.016196</td>\n",
       "    </tr>\n",
       "  </tbody>\n",
       "</table>\n",
       "<p>1 rows × 22 columns</p>\n",
       "</div>"
      ],
      "text/plain": [
       "                   bonus  deferral_payments  deferred_income  director_fees  \\\n",
       "ALLEN PHILLIP K  4175000            2869717         -3081055            NaN   \n",
       "\n",
       "                 exercised_stock_options  expenses  from_messages  \\\n",
       "ALLEN PHILLIP K                  1729541     13868           2195   \n",
       "\n",
       "                 from_poi_to_this_person  from_this_person_to_poi  \\\n",
       "ALLEN PHILLIP K                       47                       65   \n",
       "\n",
       "                 loan_advances              ...                poi  \\\n",
       "ALLEN PHILLIP K            NaN              ...                  0   \n",
       "\n",
       "                 restricted_stock  restricted_stock_deferred  salary  \\\n",
       "ALLEN PHILLIP K            126027                    -126027  201955   \n",
       "\n",
       "                 shared_receipt_with_poi  to_messages  total_payments  \\\n",
       "ALLEN PHILLIP K                     1407         2902         4484442   \n",
       "\n",
       "                 total_stock_value  from_this_person_to_poi_ratio  \\\n",
       "ALLEN PHILLIP K            1729541                       0.029613   \n",
       "\n",
       "                 from_poi_to_this_person_ratio  \n",
       "ALLEN PHILLIP K                       0.016196  \n",
       "\n",
       "[1 rows x 22 columns]"
      ]
     },
     "execution_count": 260,
     "metadata": {},
     "output_type": "execute_result"
    }
   ],
   "source": [
    "data_dict.head(1)"
   ]
  },
  {
   "cell_type": "markdown",
   "metadata": {},
   "source": [
    "## 2.2 Properly scale features "
   ]
  },
  {
   "cell_type": "markdown",
   "metadata": {},
   "source": [
    "Properly scale features was implemented by normalizing features.\n",
    "poi was splited before normalizing"
   ]
  },
  {
   "cell_type": "code",
   "execution_count": 261,
   "metadata": {
    "collapsed": false
   },
   "outputs": [
    {
     "data": {
      "text/plain": [
       "ALLEN PHILLIP K    0\n",
       "Name: poi, dtype: float64"
      ]
     },
     "execution_count": 261,
     "metadata": {},
     "output_type": "execute_result"
    }
   ],
   "source": [
    "### Split poi before normalize features\n",
    "labels = data_dict['poi']\n",
    "data_dict = data_dict.drop('poi',axis = 1)\n",
    "### check poi_mark\n",
    "labels.head(1)"
   ]
  },
  {
   "cell_type": "code",
   "execution_count": 262,
   "metadata": {
    "collapsed": false
   },
   "outputs": [],
   "source": [
    "# data_dict.head(1)"
   ]
  },
  {
   "cell_type": "code",
   "execution_count": 263,
   "metadata": {
    "collapsed": false
   },
   "outputs": [
    {
     "data": {
      "text/html": [
       "<div>\n",
       "<table border=\"1\" class=\"dataframe\">\n",
       "  <thead>\n",
       "    <tr style=\"text-align: right;\">\n",
       "      <th></th>\n",
       "      <th>bonus</th>\n",
       "      <th>deferral_payments</th>\n",
       "      <th>deferred_income</th>\n",
       "      <th>director_fees</th>\n",
       "      <th>exercised_stock_options</th>\n",
       "      <th>expenses</th>\n",
       "      <th>from_messages</th>\n",
       "      <th>from_poi_to_this_person</th>\n",
       "      <th>from_this_person_to_poi</th>\n",
       "      <th>loan_advances</th>\n",
       "      <th>...</th>\n",
       "      <th>other</th>\n",
       "      <th>restricted_stock</th>\n",
       "      <th>restricted_stock_deferred</th>\n",
       "      <th>salary</th>\n",
       "      <th>shared_receipt_with_poi</th>\n",
       "      <th>to_messages</th>\n",
       "      <th>total_payments</th>\n",
       "      <th>total_stock_value</th>\n",
       "      <th>from_this_person_to_poi_ratio</th>\n",
       "      <th>from_poi_to_this_person_ratio</th>\n",
       "    </tr>\n",
       "  </thead>\n",
       "  <tbody>\n",
       "    <tr>\n",
       "      <th>ALLEN PHILLIP K</th>\n",
       "      <td>0.37445</td>\n",
       "      <td>0.307167</td>\n",
       "      <td>-0.718452</td>\n",
       "      <td>NaN</td>\n",
       "      <td>-0.026062</td>\n",
       "      <td>-0.172048</td>\n",
       "      <td>0.110491</td>\n",
       "      <td>-0.033893</td>\n",
       "      <td>0.039027</td>\n",
       "      <td>NaN</td>\n",
       "      <td>...</td>\n",
       "      <td>-0.045595</td>\n",
       "      <td>-0.057233</td>\n",
       "      <td>-0.043374</td>\n",
       "      <td>-0.074227</td>\n",
       "      <td>0.041771</td>\n",
       "      <td>0.054873</td>\n",
       "      <td>0.017384</td>\n",
       "      <td>-0.027625</td>\n",
       "      <td>-0.154443</td>\n",
       "      <td>-0.100153</td>\n",
       "    </tr>\n",
       "  </tbody>\n",
       "</table>\n",
       "<p>1 rows × 21 columns</p>\n",
       "</div>"
      ],
      "text/plain": [
       "                   bonus  deferral_payments  deferred_income  director_fees  \\\n",
       "ALLEN PHILLIP K  0.37445           0.307167        -0.718452            NaN   \n",
       "\n",
       "                 exercised_stock_options  expenses  from_messages  \\\n",
       "ALLEN PHILLIP K                -0.026062 -0.172048       0.110491   \n",
       "\n",
       "                 from_poi_to_this_person  from_this_person_to_poi  \\\n",
       "ALLEN PHILLIP K                -0.033893                 0.039027   \n",
       "\n",
       "                 loan_advances              ...                   other  \\\n",
       "ALLEN PHILLIP K            NaN              ...               -0.045595   \n",
       "\n",
       "                 restricted_stock  restricted_stock_deferred    salary  \\\n",
       "ALLEN PHILLIP K         -0.057233                  -0.043374 -0.074227   \n",
       "\n",
       "                 shared_receipt_with_poi  to_messages  total_payments  \\\n",
       "ALLEN PHILLIP K                 0.041771     0.054873        0.017384   \n",
       "\n",
       "                 total_stock_value  from_this_person_to_poi_ratio  \\\n",
       "ALLEN PHILLIP K          -0.027625                      -0.154443   \n",
       "\n",
       "                 from_poi_to_this_person_ratio  \n",
       "ALLEN PHILLIP K                      -0.100153  \n",
       "\n",
       "[1 rows x 21 columns]"
      ]
     },
     "execution_count": 263,
     "metadata": {},
     "output_type": "execute_result"
    }
   ],
   "source": [
    "data_dict = (data_dict - data_dict.mean()) / (data_dict.max() - data_dict.min())\n",
    "data_dict.head(1)"
   ]
  },
  {
   "cell_type": "markdown",
   "metadata": {},
   "source": [
    "## 2.3 Intelligently select features "
   ]
  },
  {
   "cell_type": "markdown",
   "metadata": {},
   "source": [
    "null values were replaced by 0"
   ]
  },
  {
   "cell_type": "code",
   "execution_count": 264,
   "metadata": {
    "collapsed": false
   },
   "outputs": [
    {
     "data": {
      "text/html": [
       "<div>\n",
       "<table border=\"1\" class=\"dataframe\">\n",
       "  <thead>\n",
       "    <tr style=\"text-align: right;\">\n",
       "      <th></th>\n",
       "      <th>bonus</th>\n",
       "      <th>deferral_payments</th>\n",
       "      <th>deferred_income</th>\n",
       "      <th>director_fees</th>\n",
       "      <th>exercised_stock_options</th>\n",
       "      <th>expenses</th>\n",
       "      <th>from_messages</th>\n",
       "      <th>from_poi_to_this_person</th>\n",
       "      <th>from_this_person_to_poi</th>\n",
       "      <th>loan_advances</th>\n",
       "      <th>...</th>\n",
       "      <th>other</th>\n",
       "      <th>restricted_stock</th>\n",
       "      <th>restricted_stock_deferred</th>\n",
       "      <th>salary</th>\n",
       "      <th>shared_receipt_with_poi</th>\n",
       "      <th>to_messages</th>\n",
       "      <th>total_payments</th>\n",
       "      <th>total_stock_value</th>\n",
       "      <th>from_this_person_to_poi_ratio</th>\n",
       "      <th>from_poi_to_this_person_ratio</th>\n",
       "    </tr>\n",
       "  </thead>\n",
       "  <tbody>\n",
       "    <tr>\n",
       "      <th>ALLEN PHILLIP K</th>\n",
       "      <td>0.37445</td>\n",
       "      <td>0.307167</td>\n",
       "      <td>-0.718452</td>\n",
       "      <td>0</td>\n",
       "      <td>-0.026062</td>\n",
       "      <td>-0.172048</td>\n",
       "      <td>0.110491</td>\n",
       "      <td>-0.033893</td>\n",
       "      <td>0.039027</td>\n",
       "      <td>0</td>\n",
       "      <td>...</td>\n",
       "      <td>-0.045595</td>\n",
       "      <td>-0.057233</td>\n",
       "      <td>-0.043374</td>\n",
       "      <td>-0.074227</td>\n",
       "      <td>0.041771</td>\n",
       "      <td>0.054873</td>\n",
       "      <td>0.017384</td>\n",
       "      <td>-0.027625</td>\n",
       "      <td>-0.154443</td>\n",
       "      <td>-0.100153</td>\n",
       "    </tr>\n",
       "  </tbody>\n",
       "</table>\n",
       "<p>1 rows × 21 columns</p>\n",
       "</div>"
      ],
      "text/plain": [
       "                   bonus  deferral_payments  deferred_income  director_fees  \\\n",
       "ALLEN PHILLIP K  0.37445           0.307167        -0.718452              0   \n",
       "\n",
       "                 exercised_stock_options  expenses  from_messages  \\\n",
       "ALLEN PHILLIP K                -0.026062 -0.172048       0.110491   \n",
       "\n",
       "                 from_poi_to_this_person  from_this_person_to_poi  \\\n",
       "ALLEN PHILLIP K                -0.033893                 0.039027   \n",
       "\n",
       "                 loan_advances              ...                   other  \\\n",
       "ALLEN PHILLIP K              0              ...               -0.045595   \n",
       "\n",
       "                 restricted_stock  restricted_stock_deferred    salary  \\\n",
       "ALLEN PHILLIP K         -0.057233                  -0.043374 -0.074227   \n",
       "\n",
       "                 shared_receipt_with_poi  to_messages  total_payments  \\\n",
       "ALLEN PHILLIP K                 0.041771     0.054873        0.017384   \n",
       "\n",
       "                 total_stock_value  from_this_person_to_poi_ratio  \\\n",
       "ALLEN PHILLIP K          -0.027625                      -0.154443   \n",
       "\n",
       "                 from_poi_to_this_person_ratio  \n",
       "ALLEN PHILLIP K                      -0.100153  \n",
       "\n",
       "[1 rows x 21 columns]"
      ]
     },
     "execution_count": 264,
     "metadata": {},
     "output_type": "execute_result"
    }
   ],
   "source": [
    "data_dict = data_dict.fillna(value = 0)\n",
    "data_dict.head(1)"
   ]
  },
  {
   "cell_type": "code",
   "execution_count": 265,
   "metadata": {
    "collapsed": false
   },
   "outputs": [
    {
     "data": {
      "text/plain": [
       "Index([u'bonus', u'exercised_stock_options', u'salary', u'total_stock_value',\n",
       "       u'from_this_person_to_poi_ratio'],\n",
       "      dtype='object')"
      ]
     },
     "execution_count": 265,
     "metadata": {},
     "output_type": "execute_result"
    }
   ],
   "source": [
    "KBest_f_classif = SelectKBest(f_classif, k=5).fit(data_dict, labels)\n",
    "x_new = KBest_f_classif.get_support()\n",
    "data_dict.columns[x_new]\n"
   ]
  },
  {
   "cell_type": "code",
   "execution_count": 266,
   "metadata": {
    "collapsed": false
   },
   "outputs": [
    {
     "data": {
      "text/html": [
       "<div>\n",
       "<table border=\"1\" class=\"dataframe\">\n",
       "  <thead>\n",
       "    <tr style=\"text-align: right;\">\n",
       "      <th></th>\n",
       "      <th>0</th>\n",
       "    </tr>\n",
       "  </thead>\n",
       "  <tbody>\n",
       "    <tr>\n",
       "      <th>exercised_stock_options</th>\n",
       "      <td>20.535508</td>\n",
       "    </tr>\n",
       "    <tr>\n",
       "      <th>from_this_person_to_poi_ratio</th>\n",
       "      <td>16.515465</td>\n",
       "    </tr>\n",
       "    <tr>\n",
       "      <th>total_stock_value</th>\n",
       "      <td>15.894502</td>\n",
       "    </tr>\n",
       "    <tr>\n",
       "      <th>bonus</th>\n",
       "      <td>14.668231</td>\n",
       "    </tr>\n",
       "    <tr>\n",
       "      <th>salary</th>\n",
       "      <td>12.098335</td>\n",
       "    </tr>\n",
       "  </tbody>\n",
       "</table>\n",
       "</div>"
      ],
      "text/plain": [
       "                                       0\n",
       "exercised_stock_options        20.535508\n",
       "from_this_person_to_poi_ratio  16.515465\n",
       "total_stock_value              15.894502\n",
       "bonus                          14.668231\n",
       "salary                         12.098335"
      ]
     },
     "execution_count": 266,
     "metadata": {},
     "output_type": "execute_result"
    }
   ],
   "source": [
    "feature_scores = KBest_f_classif.scores_\n",
    "feature_scores = pd.DataFrame(feature_scores)\n",
    "feature_scores.index = data_dict.columns\n",
    "feature_scores.sort_values([0],ascending=[False]).head(5)"
   ]
  },
  {
   "cell_type": "markdown",
   "metadata": {},
   "source": [
    "Populate a new dataset with 5 features which have highest feature scores from KBest_f_classif.Having highest feature scores means these features are likely to be able to help us build the model and predict poi."
   ]
  },
  {
   "cell_type": "code",
   "execution_count": 267,
   "metadata": {
    "collapsed": false
   },
   "outputs": [
    {
     "data": {
      "text/html": [
       "<div>\n",
       "<table border=\"1\" class=\"dataframe\">\n",
       "  <thead>\n",
       "    <tr style=\"text-align: right;\">\n",
       "      <th></th>\n",
       "      <th>bonus</th>\n",
       "      <th>exercised_stock_options</th>\n",
       "      <th>salary</th>\n",
       "      <th>total_stock_value</th>\n",
       "      <th>from_this_person_to_poi_ratio</th>\n",
       "    </tr>\n",
       "  </thead>\n",
       "  <tbody>\n",
       "    <tr>\n",
       "      <th>ALLEN PHILLIP K</th>\n",
       "      <td>0.37445</td>\n",
       "      <td>-0.026062</td>\n",
       "      <td>-0.074227</td>\n",
       "      <td>-0.027625</td>\n",
       "      <td>-0.154443</td>\n",
       "    </tr>\n",
       "  </tbody>\n",
       "</table>\n",
       "</div>"
      ],
      "text/plain": [
       "                   bonus  exercised_stock_options    salary  \\\n",
       "ALLEN PHILLIP K  0.37445                -0.026062 -0.074227   \n",
       "\n",
       "                 total_stock_value  from_this_person_to_poi_ratio  \n",
       "ALLEN PHILLIP K          -0.027625                      -0.154443  "
      ]
     },
     "execution_count": 267,
     "metadata": {},
     "output_type": "execute_result"
    }
   ],
   "source": [
    "data_dict_optimized_features = data_dict[data_dict.columns[x_new]]\n",
    "data_dict_optimized_features.head(1)"
   ]
  },
  {
   "cell_type": "markdown",
   "metadata": {},
   "source": [
    "# 3. What algorithm did you end up using? What other one(s) did you try? How did model performance differ between algorithms?\n",
    "\n",
    "I ended up using decision tree algorithm after trying algorithms below:\n",
    " - decision tree: intend to have lower precision and higher recall\n",
    " - SVM: intend to have very high precison and extremly low recall\n",
    " - Gaussian Naive Bayes: intend to have higher precision and lower recall\n",
    "\n",
    "As this project targets to get both precision and recall higher than 0.3, so SVM was abandoned firstly. Since I prefer to pick up less worng poi rather than identifying a innocent, so I chose decision tree which has high recall."
   ]
  },
  {
   "cell_type": "markdown",
   "metadata": {},
   "source": [
    "Split traning and test dataset to prepare for validation"
   ]
  },
  {
   "cell_type": "code",
   "execution_count": 268,
   "metadata": {
    "collapsed": true
   },
   "outputs": [],
   "source": [
    "x_train, x_test, y_train, y_test = train_test_split(data_dict_optimized_features, labels\n",
    "                                                    , test_size=0.3, random_state=42)"
   ]
  },
  {
   "cell_type": "markdown",
   "metadata": {},
   "source": [
    "#### Define function for cross validation"
   ]
  },
  {
   "cell_type": "code",
   "execution_count": 269,
   "metadata": {
    "collapsed": false
   },
   "outputs": [],
   "source": [
    "### Modified from test_classifier function in tester.py\n",
    "def test_classifier(clf, features, labels, folds = 1000):\n",
    "    ''' clf: class of ML\n",
    "        features: contains feature data of observation\n",
    "        labels: contains label of observation\n",
    "        features and labels must be matched on index of pandas dataframe\n",
    "        '''\n",
    "#     data = featureFormat(dataset, feature_list, sort_keys = True)\n",
    "#     # pprint(dataset)\n",
    "#     labels, features = targetFeatureSplit(data)\n",
    "#     print len(labels)\n",
    "    cv = StratifiedShuffleSplit(labels, folds, random_state = 42)\n",
    "#     print len(cv)\n",
    "    true_negatives = 0\n",
    "    false_negatives = 0\n",
    "    true_positives = 0\n",
    "    false_positives = 0\n",
    "#     print cv\n",
    "#     print features.index\n",
    "#     print '~~~~~~~~~~~~`'\n",
    "#     print labels.index\n",
    "    for train_idx, test_idx in cv:\n",
    "        \n",
    "#         print train_idx\n",
    "#         print '~~~~~~~~~~~~~~~~~~~~~~~~~~~~~~~~~~~~~~~~~'\n",
    "#         print test_idx\n",
    "        features_train = pd.DataFrame()\n",
    "        features_test  = pd.DataFrame()\n",
    "        labels_train   = pd.DataFrame()\n",
    "        labels_test    = pd.DataFrame()\n",
    "        features_train = features.iloc[train_idx].sort_index(axis = 'index')\n",
    "        labels_train   = labels.iloc[train_idx].sort_index(axis = 'index')\n",
    "        features_test  = features.iloc[test_idx].sort_index(axis = 'index')\n",
    "        labels_test    = labels.iloc[test_idx].sort_index(axis = 'index')\n",
    "        \n",
    "        ### fit the classifier using training set, and test on test set\n",
    "        \n",
    "#         print features_train.index == labels_train.index\n",
    "#         print features_test.index == labels_test.index\n",
    "#         break\n",
    "        \n",
    "        clf.fit(features_train, labels_train)\n",
    "        predictions = clf.predict(features_test)\n",
    "        for prediction, truth in zip(predictions, labels_test):\n",
    "            if prediction == 0 and truth == 0:\n",
    "                true_negatives += 1\n",
    "            elif prediction == 0 and truth == 1:\n",
    "                false_negatives += 1\n",
    "            elif prediction == 1 and truth == 0:\n",
    "                false_positives += 1\n",
    "            elif prediction == 1 and truth == 1:\n",
    "                true_positives += 1\n",
    "            else:\n",
    "                print \"Warning: Found a predicted label not == 0 or 1.\"\n",
    "                print \"All predictions should take value 0 or 1.\"\n",
    "                print \"Evaluating performance for processed predictions:\"\n",
    "                break\n",
    "    \n",
    "#     total_predictions = true_negatives + false_negatives + false_positives + true_positives\n",
    "#     accuracy = 1.0*(true_positives + true_negatives)/total_predictions\n",
    "#     print accuracy\n",
    "#     print true_positives\n",
    "#     print false_positives\n",
    "#     print false_negatives\n",
    "    try:\n",
    "        total_predictions = true_negatives + false_negatives + false_positives + true_positives\n",
    "        accuracy = 1.0*(true_positives + true_negatives)/total_predictions\n",
    "        precision = 1.0*true_positives/(true_positives+false_positives)\n",
    "        recall = 1.0*true_positives/(true_positives+false_negatives)\n",
    "        f1 = 2.0 * true_positives/(2*true_positives + false_positives+false_negatives)\n",
    "        f2 = (1+2.0*2.0) * precision*recall/(4*precision + recall)\n",
    "        print clf\n",
    "        print 'Precision is {}. Recall is {}'.format(precision,recall)\n",
    "        print 'f1 is {}. f2 is {}'.format(f1,f2)\n",
    "    except:\n",
    "        print \"Got a divide by zero when trying out:\", clf\n",
    "        print \"Precision or recall may be undefined due to a lack of true positive predicitons.\"\n",
    "        print  'true_positives is {}. true_negatives is {}. false_positives is {}. false_negatives is {}'.format(true_positives\n",
    "                                                                                                                 ,true_negatives\n",
    "                                                                                                                 ,false_positives\n",
    "                                                                                                                 ,false_negatives)\n"
   ]
  },
  {
   "cell_type": "markdown",
   "metadata": {},
   "source": [
    "## 3.1 Decision Tree"
   ]
  },
  {
   "cell_type": "code",
   "execution_count": 270,
   "metadata": {
    "collapsed": false
   },
   "outputs": [
    {
     "name": "stdout",
     "output_type": "stream",
     "text": [
      "DecisionTreeClassifier(class_weight=None, criterion='gini', max_depth=None,\n",
      "            max_features=None, max_leaf_nodes=None, min_samples_leaf=1,\n",
      "            min_samples_split=2, min_weight_fraction_leaf=0.0,\n",
      "            presort=False, random_state=None, splitter='best')\n",
      "Precision is 0.222875816993. Recall is 0.341\n",
      "f1 is 0.269565217391. f2 is 0.308318264014\n"
     ]
    }
   ],
   "source": [
    "clf_tree = tree.DecisionTreeClassifier()\n",
    "test_classifier(clf_tree,data_dict_optimized_features,labels)"
   ]
  },
  {
   "cell_type": "markdown",
   "metadata": {},
   "source": [
    "## 3.2 Naive Bayes"
   ]
  },
  {
   "cell_type": "code",
   "execution_count": 271,
   "metadata": {
    "collapsed": false
   },
   "outputs": [
    {
     "name": "stdout",
     "output_type": "stream",
     "text": [
      "GaussianNB()\n",
      "Precision is 0.319018404908. Recall is 0.26\n",
      "f1 is 0.28650137741. f2 is 0.269989615784\n"
     ]
    }
   ],
   "source": [
    "clf_nai = GaussianNB()\n",
    "# clf_nai.fit(x_train, y_train)\n",
    "# pred_nai = clf_nai.predict(x_test)\n",
    "# print metrics.precision_score(y_test, pred_nai)\n",
    "# print metrics.recall_score(y_test, pred_nai)\n",
    "test_classifier(clf_nai,data_dict_optimized_features,labels)"
   ]
  },
  {
   "cell_type": "markdown",
   "metadata": {},
   "source": [
    "## 3.3 Support Vector Machine"
   ]
  },
  {
   "cell_type": "code",
   "execution_count": 272,
   "metadata": {
    "collapsed": false,
    "scrolled": true
   },
   "outputs": [
    {
     "name": "stdout",
     "output_type": "stream",
     "text": [
      "SVC(C=10, cache_size=200, class_weight=None, coef0=0.0,\n",
      "  decision_function_shape=None, degree=3, gamma='auto', kernel='rbf',\n",
      "  max_iter=-1, probability=False, random_state=None, shrinking=True,\n",
      "  tol=0.001, verbose=False)\n",
      "Precision is 0.744444444444. Recall is 0.067\n",
      "f1 is 0.122935779817. f2 is 0.0819070904645\n"
     ]
    }
   ],
   "source": [
    "clf_svc = SVC(kernel = \"rbf\", C = 10)\n",
    "test_classifier(clf_svc,data_dict_optimized_features,labels)"
   ]
  },
  {
   "cell_type": "markdown",
   "metadata": {},
   "source": [
    "# 4. What does it mean to tune the parameters of an algorithm, and what can happen if you don’t do this well?  How did you tune the parameters of your particular algorithm? \n",
    "\n",
    " - Tunning the parameters of an algorithm means to find a suitable way to use the algorithm for a certain question. The same algorithm can perform significantly different with different paramters. The optimized paramters can help us to reduce the chance of overfitting，which refect noise and error rather than the true relationships, while training the model. \n",
    "\n",
    " - However, manually trying out different combination of parameters can take heaps of times. So, by using grid_search, we can facilitate the process."
   ]
  },
  {
   "cell_type": "markdown",
   "metadata": {},
   "source": [
    "## 4.1 Tunning SVM"
   ]
  },
  {
   "cell_type": "markdown",
   "metadata": {},
   "source": [
    "Look for best parameters"
   ]
  },
  {
   "cell_type": "code",
   "execution_count": 273,
   "metadata": {
    "collapsed": false
   },
   "outputs": [
    {
     "name": "stdout",
     "output_type": "stream",
     "text": [
      "{'kernel': 'linear', 'C': 1, 'degree': 1}\n"
     ]
    }
   ],
   "source": [
    "parameters_svc = {'kernel':('linear', 'rbf','poly'), 'C':[1, 20],'degree':[1, 20]}\n",
    "svr = SVC()\n",
    "clf_GSC = grid_search.GridSearchCV(svr, parameters_svc)\n",
    "clf_GSC.fit(x_train,y_train)\n",
    "print clf_GSC.best_params_"
   ]
  },
  {
   "cell_type": "markdown",
   "metadata": {},
   "source": [
    "Repredict by best paramters"
   ]
  },
  {
   "cell_type": "code",
   "execution_count": 274,
   "metadata": {
    "collapsed": false
   },
   "outputs": [
    {
     "name": "stdout",
     "output_type": "stream",
     "text": [
      "Got a divide by zero when trying out: SVC(C=1, cache_size=200, class_weight=None, coef0=0.0,\n",
      "  decision_function_shape=None, degree=1, gamma='auto', kernel='linear',\n",
      "  max_iter=-1, probability=False, random_state=None, shrinking=True,\n",
      "  tol=0.001, verbose=False)\n",
      "Precision or recall may be undefined due to a lack of true positive predicitons.\n",
      "true_positives is 0. true_negatives is 13000. false_positives is 0. false_negatives is 1000\n"
     ]
    }
   ],
   "source": [
    "clf_svc = SVC(kernel = \"linear\", C = 1, degree = 1)\n",
    "test_classifier(clf_svc,data_dict_optimized_features,labels)"
   ]
  },
  {
   "cell_type": "markdown",
   "metadata": {},
   "source": [
    "## 4.2 Tunning decision tree"
   ]
  },
  {
   "cell_type": "markdown",
   "metadata": {},
   "source": [
    "Look for best parameters"
   ]
  },
  {
   "cell_type": "code",
   "execution_count": 275,
   "metadata": {
    "collapsed": false
   },
   "outputs": [
    {
     "data": {
      "text/plain": [
       "{'criterion': 'gini', 'min_samples_split': 2, 'splitter': 'random'}"
      ]
     },
     "execution_count": 275,
     "metadata": {},
     "output_type": "execute_result"
    }
   ],
   "source": [
    "parameters_decision_tree = {'criterion':('gini', 'entropy'), 'splitter':('best', 'random'),'min_samples_split':[2,10]}\n",
    "clf_tree_GSC = tree.DecisionTreeClassifier(criterion = 'gini')\n",
    "clf_tree_GSC = grid_search.GridSearchCV(clf_tree_GSC, parameters_decision_tree)\n",
    "clf_tree_GSC = clf_tree_GSC.fit(x_train, y_train)\n",
    "clf_tree_GSC.best_params_"
   ]
  },
  {
   "cell_type": "code",
   "execution_count": 276,
   "metadata": {
    "collapsed": false
   },
   "outputs": [
    {
     "name": "stdout",
     "output_type": "stream",
     "text": [
      "DecisionTreeClassifier(class_weight=None, criterion='entropy', max_depth=None,\n",
      "            max_features=None, max_leaf_nodes=None, min_samples_leaf=1,\n",
      "            min_samples_split=10, min_weight_fraction_leaf=0.0,\n",
      "            presort=False, random_state=None, splitter='random')\n",
      "Precision is 0.21744966443. Recall is 0.162\n",
      "f1 is 0.185673352436. f2 is 0.170706006322\n"
     ]
    }
   ],
   "source": [
    "clf_tree = tree.DecisionTreeClassifier(criterion = 'entropy', min_samples_split=10,splitter= 'random')\n",
    "test_classifier(clf_tree,data_dict_optimized_features,labels)"
   ]
  },
  {
   "cell_type": "markdown",
   "metadata": {},
   "source": [
    "# 5. What is validation, and what’s a classic mistake you can make if you do it wrong? How did you validate your analysis?  \n",
    "\n",
    "Validation is the process to test the performance of the model by running the model against a dateset that we didn't use for training the model.\n",
    "\n",
    "If we only train and test the model on training dataset, we are likely to get an optimistic assessment on how well the model can perform. But the model could actually be overfitting to the specific tranning dateset and not be able to predict/cluster against a new dataset.\n",
    "\n",
    "\n",
    "Some classic mistake we can make include:\n",
    " - Using the accuracy/error of the trainning dataset. We should normally use training dataset to fit the model, but use a separate testing dataset to test model's performance.\n",
    " - Testing the result for only once. The test result could be random because of the training/testing dataset are randomly selected, so it's better to run a cross-validation to eliminate the effect of random selection\n",
    "\n",
    "I implemented a cross validation in function test_classifier to test the model's performance.\n"
   ]
  },
  {
   "cell_type": "markdown",
   "metadata": {},
   "source": [
    "# 6. Give at least 2 evaluation metrics and your average performance for each of them. "
   ]
  },
  {
   "cell_type": "markdown",
   "metadata": {},
   "source": [
    "Due to the initial features did perform well. I manually selected few features for further investigation.\n",
    "\n",
    "Naive bayes and Decision tree are used in this section.\n",
    "The model's performance are evaluated by precision and recall\n",
    "Precision means if the precision is 0.1 and the model predict there are 100 poi, then 10 of them are actual poi, and 90 of them are not poi. \n",
    "Recall means if the recall is 0.2, then 20% of the real poi can be identified by the model."
   ]
  },
  {
   "cell_type": "markdown",
   "metadata": {
    "collapsed": true
   },
   "source": [
    "## 6.1 Pick up new features for testing"
   ]
  },
  {
   "cell_type": "code",
   "execution_count": 277,
   "metadata": {
    "collapsed": false
   },
   "outputs": [
    {
     "data": {
      "text/html": [
       "<div>\n",
       "<table border=\"1\" class=\"dataframe\">\n",
       "  <thead>\n",
       "    <tr style=\"text-align: right;\">\n",
       "      <th></th>\n",
       "      <th>total_payments</th>\n",
       "      <th>total_stock_value</th>\n",
       "      <th>shared_receipt_with_poi</th>\n",
       "      <th>from_this_person_to_poi_ratio</th>\n",
       "      <th>from_poi_to_this_person_ratio</th>\n",
       "    </tr>\n",
       "  </thead>\n",
       "  <tbody>\n",
       "    <tr>\n",
       "      <th>ALLEN PHILLIP K</th>\n",
       "      <td>0.017384</td>\n",
       "      <td>-0.027625</td>\n",
       "      <td>0.041771</td>\n",
       "      <td>-0.154443</td>\n",
       "      <td>-0.100153</td>\n",
       "    </tr>\n",
       "  </tbody>\n",
       "</table>\n",
       "</div>"
      ],
      "text/plain": [
       "                 total_payments  total_stock_value  shared_receipt_with_poi  \\\n",
       "ALLEN PHILLIP K        0.017384          -0.027625                 0.041771   \n",
       "\n",
       "                 from_this_person_to_poi_ratio  from_poi_to_this_person_ratio  \n",
       "ALLEN PHILLIP K                      -0.154443                      -0.100153  "
      ]
     },
     "execution_count": 277,
     "metadata": {},
     "output_type": "execute_result"
    }
   ],
   "source": [
    "features_list = ['total_payments', 'total_stock_value','shared_receipt_with_poi'\n",
    "                 ,'from_this_person_to_poi_ratio','from_poi_to_this_person_ratio']\n",
    "data_dict_manual_features = data_dict[features_list]\n",
    "data_dict_manual_features.head(1)"
   ]
  },
  {
   "cell_type": "markdown",
   "metadata": {},
   "source": [
    "## 6.2 Testing Decision Tree\n",
    "As the result of decision Tree.\n",
    " - The percision is 0.35. 35% of people who are identified as poi, are actual poi.\n",
    " - The recall is 0.398. 39.8% of people who are actual poi, are identified by the moodel"
   ]
  },
  {
   "cell_type": "code",
   "execution_count": 278,
   "metadata": {
    "collapsed": false
   },
   "outputs": [
    {
     "name": "stdout",
     "output_type": "stream",
     "text": [
      "DecisionTreeClassifier(class_weight=None, criterion='gini', max_depth=None,\n",
      "            max_features=None, max_leaf_nodes=None, min_samples_leaf=1,\n",
      "            min_samples_split=2, min_weight_fraction_leaf=0.0,\n",
      "            presort=False, random_state=None, splitter='best')\n",
      "Precision is 0.350660792952. Recall is 0.398\n",
      "f1 is 0.372833723653. f2 is 0.387536514119\n"
     ]
    }
   ],
   "source": [
    "clf_tree = tree.DecisionTreeClassifier()\n",
    "test_classifier(clf_tree,data_dict_manual_features,labels)"
   ]
  },
  {
   "cell_type": "markdown",
   "metadata": {},
   "source": [
    "Check importance of features."
   ]
  },
  {
   "cell_type": "code",
   "execution_count": 279,
   "metadata": {
    "collapsed": false
   },
   "outputs": [
    {
     "data": {
      "text/plain": [
       "array([ 0.        ,  0.        ,  0.4989962 ,  0.40590659,  0.09509721])"
      ]
     },
     "execution_count": 279,
     "metadata": {},
     "output_type": "execute_result"
    }
   ],
   "source": [
    "clf_tree.feature_importances_ "
   ]
  },
  {
   "cell_type": "code",
   "execution_count": 280,
   "metadata": {
    "collapsed": false,
    "scrolled": true
   },
   "outputs": [
    {
     "data": {
      "text/plain": [
       "Index([u'total_payments', u'total_stock_value', u'shared_receipt_with_poi',\n",
       "       u'from_this_person_to_poi_ratio', u'from_poi_to_this_person_ratio'],\n",
       "      dtype='object')"
      ]
     },
     "execution_count": 280,
     "metadata": {},
     "output_type": "execute_result"
    }
   ],
   "source": [
    "data_dict_manual_features.columns"
   ]
  },
  {
   "cell_type": "markdown",
   "metadata": {},
   "source": [
    "Testing result without new feautres"
   ]
  },
  {
   "cell_type": "code",
   "execution_count": 281,
   "metadata": {
    "collapsed": false
   },
   "outputs": [
    {
     "name": "stdout",
     "output_type": "stream",
     "text": [
      "DecisionTreeClassifier(class_weight=None, criterion='gini', max_depth=None,\n",
      "            max_features=None, max_leaf_nodes=None, min_samples_leaf=1,\n",
      "            min_samples_split=2, min_weight_fraction_leaf=0.0,\n",
      "            presort=False, random_state=None, splitter='best')\n",
      "Precision is 0.10744500846. Recall is 0.127\n",
      "f1 is 0.116406966086. f2 is 0.122539560015\n"
     ]
    }
   ],
   "source": [
    "clf_tree = tree.DecisionTreeClassifier()\n",
    "test_classifier(clf_tree,data_dict_manual_features[[u'total_payments', u'total_stock_value', u'shared_receipt_with_poi']],labels)"
   ]
  },
  {
   "cell_type": "markdown",
   "metadata": {},
   "source": [
    "As above result, features from_poi_to_this_person_ratio and from_this_person_to_poi_ratio are important in the model."
   ]
  },
  {
   "cell_type": "markdown",
   "metadata": {},
   "source": [
    "## 6.3 Tunning pamameters for decision tree"
   ]
  },
  {
   "cell_type": "code",
   "execution_count": 282,
   "metadata": {
    "collapsed": true
   },
   "outputs": [],
   "source": [
    "x_train, x_test, y_train, y_test = train_test_split(data_dict_manual_features, labels\n",
    "                                                    , test_size=0.1, random_state=42)"
   ]
  },
  {
   "cell_type": "code",
   "execution_count": 283,
   "metadata": {
    "collapsed": false
   },
   "outputs": [
    {
     "data": {
      "text/plain": [
       "{'criterion': 'gini', 'min_samples_split': 2, 'splitter': 'best'}"
      ]
     },
     "execution_count": 283,
     "metadata": {},
     "output_type": "execute_result"
    }
   ],
   "source": [
    "parameters_decision_tree = {'criterion':('gini', 'entropy'), 'splitter':('best', 'random'),'min_samples_split':[2,10]}\n",
    "clf_tree_GSC = tree.DecisionTreeClassifier(criterion = 'gini')\n",
    "clf_tree_GSC = grid_search.GridSearchCV(clf_tree_GSC, parameters_decision_tree)\n",
    "clf_tree_GSC = clf_tree_GSC.fit(x_train, y_train)\n",
    "clf_tree_GSC.best_params_"
   ]
  },
  {
   "cell_type": "markdown",
   "metadata": {},
   "source": [
    "Intergrating new parameters into decision tree"
   ]
  },
  {
   "cell_type": "code",
   "execution_count": 284,
   "metadata": {
    "collapsed": false
   },
   "outputs": [
    {
     "name": "stdout",
     "output_type": "stream",
     "text": [
      "DecisionTreeClassifier(class_weight=None, criterion='gini', max_depth=None,\n",
      "            max_features=None, max_leaf_nodes=None, min_samples_leaf=1,\n",
      "            min_samples_split=10, min_weight_fraction_leaf=0.0,\n",
      "            presort=False, random_state=None, splitter='best')\n",
      "Precision is 0.354124748491. Recall is 0.352\n",
      "f1 is 0.353059177533. f2 is 0.352422907489\n"
     ]
    }
   ],
   "source": [
    "clf_tree = tree.DecisionTreeClassifier(criterion = 'gini', min_samples_split=10,splitter= 'best')\n",
    "test_classifier(clf_tree,data_dict_manual_features,labels)"
   ]
  },
  {
   "cell_type": "markdown",
   "metadata": {
    "collapsed": true
   },
   "source": [
    "## 6.4 Testing Naive Bayes"
   ]
  },
  {
   "cell_type": "markdown",
   "metadata": {},
   "source": [
    "Naive bayes didn't perform well with the manually selected features. Decision Tree is remained as the final algorithm"
   ]
  },
  {
   "cell_type": "code",
   "execution_count": 285,
   "metadata": {
    "collapsed": false
   },
   "outputs": [
    {
     "name": "stdout",
     "output_type": "stream",
     "text": [
      "GaussianNB()\n",
      "Precision is 0.176258992806. Recall is 0.147\n",
      "f1 is 0.160305343511. f2 is 0.15204799338\n"
     ]
    }
   ],
   "source": [
    "clf_nai = GaussianNB()\n",
    "test_classifier(clf_nai,data_dict_manual_features,labels)"
   ]
  }
 ],
 "metadata": {
  "kernelspec": {
   "display_name": "Python 2",
   "language": "python",
   "name": "python2"
  },
  "language_info": {
   "codemirror_mode": {
    "name": "ipython",
    "version": 2
   },
   "file_extension": ".py",
   "mimetype": "text/x-python",
   "name": "python",
   "nbconvert_exporter": "python",
   "pygments_lexer": "ipython2",
   "version": "2.7.11"
  }
 },
 "nbformat": 4,
 "nbformat_minor": 0
}
